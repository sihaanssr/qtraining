{
  "nbformat": 4,
  "nbformat_minor": 0,
  "metadata": {
    "colab": {
      "name": "Week_0_Assignment_2_working.ipynb",
      "provenance": [],
      "collapsed_sections": []
    },
    "kernelspec": {
      "name": "python3",
      "display_name": "Python 3"
    },
    "language_info": {
      "name": "python"
    }
  },
  "cells": [
    {
      "cell_type": "code",
      "metadata": {
        "id": "53CdHKI1b0rA"
      },
      "source": [
        "import pandas as pd\n",
        "import numpy as np\n",
        "\n",
        "import plotly.express as px\n",
        "import plotly.graph_objects as go"
      ],
      "execution_count": null,
      "outputs": []
    },
    {
      "cell_type": "code",
      "metadata": {
        "colab": {
          "base_uri": "https://localhost:8080/",
          "height": 419
        },
        "id": "9AQypQKaUMyD",
        "outputId": "70de77b8-e1f6-4d88-831e-491c5cd78e91"
      },
      "source": [
        "dataset = pd.read_csv(\"assignment2_data.csv\",header=None,names=[\"x\",\"y\"])\n",
        "dataset"
      ],
      "execution_count": null,
      "outputs": [
        {
          "output_type": "execute_result",
          "data": {
            "text/html": [
              "<div>\n",
              "<style scoped>\n",
              "    .dataframe tbody tr th:only-of-type {\n",
              "        vertical-align: middle;\n",
              "    }\n",
              "\n",
              "    .dataframe tbody tr th {\n",
              "        vertical-align: top;\n",
              "    }\n",
              "\n",
              "    .dataframe thead th {\n",
              "        text-align: right;\n",
              "    }\n",
              "</style>\n",
              "<table border=\"1\" class=\"dataframe\">\n",
              "  <thead>\n",
              "    <tr style=\"text-align: right;\">\n",
              "      <th></th>\n",
              "      <th>x</th>\n",
              "      <th>y</th>\n",
              "    </tr>\n",
              "  </thead>\n",
              "  <tbody>\n",
              "    <tr>\n",
              "      <th>0</th>\n",
              "      <td>32.502345</td>\n",
              "      <td>31.707006</td>\n",
              "    </tr>\n",
              "    <tr>\n",
              "      <th>1</th>\n",
              "      <td>53.426804</td>\n",
              "      <td>68.777596</td>\n",
              "    </tr>\n",
              "    <tr>\n",
              "      <th>2</th>\n",
              "      <td>61.530358</td>\n",
              "      <td>62.562382</td>\n",
              "    </tr>\n",
              "    <tr>\n",
              "      <th>3</th>\n",
              "      <td>47.475640</td>\n",
              "      <td>71.546632</td>\n",
              "    </tr>\n",
              "    <tr>\n",
              "      <th>4</th>\n",
              "      <td>59.813208</td>\n",
              "      <td>87.230925</td>\n",
              "    </tr>\n",
              "    <tr>\n",
              "      <th>...</th>\n",
              "      <td>...</td>\n",
              "      <td>...</td>\n",
              "    </tr>\n",
              "    <tr>\n",
              "      <th>95</th>\n",
              "      <td>50.030174</td>\n",
              "      <td>81.536991</td>\n",
              "    </tr>\n",
              "    <tr>\n",
              "      <th>96</th>\n",
              "      <td>49.239765</td>\n",
              "      <td>72.111832</td>\n",
              "    </tr>\n",
              "    <tr>\n",
              "      <th>97</th>\n",
              "      <td>50.039576</td>\n",
              "      <td>85.232007</td>\n",
              "    </tr>\n",
              "    <tr>\n",
              "      <th>98</th>\n",
              "      <td>48.149859</td>\n",
              "      <td>66.224958</td>\n",
              "    </tr>\n",
              "    <tr>\n",
              "      <th>99</th>\n",
              "      <td>25.128485</td>\n",
              "      <td>53.454394</td>\n",
              "    </tr>\n",
              "  </tbody>\n",
              "</table>\n",
              "<p>100 rows × 2 columns</p>\n",
              "</div>"
            ],
            "text/plain": [
              "            x          y\n",
              "0   32.502345  31.707006\n",
              "1   53.426804  68.777596\n",
              "2   61.530358  62.562382\n",
              "3   47.475640  71.546632\n",
              "4   59.813208  87.230925\n",
              "..        ...        ...\n",
              "95  50.030174  81.536991\n",
              "96  49.239765  72.111832\n",
              "97  50.039576  85.232007\n",
              "98  48.149859  66.224958\n",
              "99  25.128485  53.454394\n",
              "\n",
              "[100 rows x 2 columns]"
            ]
          },
          "metadata": {
            "tags": []
          },
          "execution_count": 91
        }
      ]
    },
    {
      "cell_type": "code",
      "metadata": {
        "id": "MIbMbFq6UT0Y"
      },
      "source": [
        "X,y = dataset[\"x\"].to_numpy(),dataset[\"y\"].to_numpy()"
      ],
      "execution_count": null,
      "outputs": []
    },
    {
      "cell_type": "code",
      "metadata": {
        "colab": {
          "base_uri": "https://localhost:8080/",
          "height": 542
        },
        "id": "IM9WFDgNYVK1",
        "outputId": "874d00b9-8378-4b5b-8f82-8dbc3234c95c"
      },
      "source": [
        "px.scatter(x=X,y=y,template=\"plotly_dark\")"
      ],
      "execution_count": null,
      "outputs": [
        {
          "output_type": "display_data",
          "data": {
            "text/html": [
              "<html>\n",
              "<head><meta charset=\"utf-8\" /></head>\n",
              "<body>\n",
              "    <div>\n",
              "            <script src=\"https://cdnjs.cloudflare.com/ajax/libs/mathjax/2.7.5/MathJax.js?config=TeX-AMS-MML_SVG\"></script><script type=\"text/javascript\">if (window.MathJax) {MathJax.Hub.Config({SVG: {font: \"STIX-Web\"}});}</script>\n",
              "                <script type=\"text/javascript\">window.PlotlyConfig = {MathJaxConfig: 'local'};</script>\n",
              "        <script src=\"https://cdn.plot.ly/plotly-latest.min.js\"></script>    \n",
              "            <div id=\"05f05aed-61a1-4eba-8e50-9ba159516465\" class=\"plotly-graph-div\" style=\"height:525px; width:100%;\"></div>\n",
              "            <script type=\"text/javascript\">\n",
              "                \n",
              "                    window.PLOTLYENV=window.PLOTLYENV || {};\n",
              "                    \n",
              "                if (document.getElementById(\"05f05aed-61a1-4eba-8e50-9ba159516465\")) {\n",
              "                    Plotly.newPlot(\n",
              "                        '05f05aed-61a1-4eba-8e50-9ba159516465',\n",
              "                        [{\"hoverlabel\": {\"namelength\": 0}, \"hovertemplate\": \"x=%{x}<br>y=%{y}\", \"legendgroup\": \"\", \"marker\": {\"color\": \"#636efa\", \"symbol\": \"circle\"}, \"mode\": \"markers\", \"name\": \"\", \"showlegend\": false, \"type\": \"scatter\", \"x\": [32.50234526945303, 53.426804033275026, 61.53035802563643, 47.4756396347861, 59.81320786951232, 55.14218841394383, 52.211796692214, 39.299566694317065, 48.10504169176824, 52.55001444273382, 45.419730144973755, 54.351634881228925, 44.164049496773345, 58.16847071685778, 56.727208057096604, 48.95588856609372, 44.6871962314809, 60.297326851333466, 45.61864377295583, 38.816817537445644, 66.1898166067526, 65.41605174513407, 47.48120860786787, 41.57564261748703, 51.84518690563943, 59.37082201108952, 57.31000343834809, 63.61556125145329, 46.73761940797697, 50.556760148547774, 52.22399608555305, 35.56783004774663, 42.43647694405564, 58.16454011019286, 57.504447615341775, 45.440530725319974, 61.89622268029126, 33.09383173616396, 36.436009511386864, 37.675654860850734, 44.555608383275356, 43.31828263186572, 50.07314563228904, 43.870612645218365, 62.99748074755309, 32.669043763467194, 40.166899008703695, 53.575077531673664, 33.86421497177824, 64.7071386661213, 38.11982402682281, 44.5025380646451, 40.59953838455232, 41.72067635634129, 51.0886346783368, 55.0780959049232, 41.3777265348952, 62.49469742726979, 49.203887540825995, 41.102685187349664, 41.18201610516983, 50.1863894948806, 52.378446219236224, 50.135485486286115, 33.64470600619178, 39.55790122290683, 56.13038881687546, 57.36205213323824, 60.269214393997906, 35.678093889410725, 31.58811699813283, 53.66093226167304, 46.682228649471924, 43.10782021910247, 70.34607561504933, 44.49285588085407, 57.5045333032684, 36.930076609191815, 55.80573335794274, 38.95476907337706, 56.90121470224707, 56.868900661384046, 34.33312470421609, 59.04974121466682, 57.788223993230666, 54.28232870596741, 51.088719898979136, 50.282836348230724, 44.21174175209011, 38.00548800806069, 32.940479942618296, 53.69163957107006, 68.76573426962166, 46.23096649831025, 68.31936081825536, 50.030174340312136, 49.239765342753756, 50.039575939875995, 48.14985889102886, 25.128484647772304], \"xaxis\": \"x\", \"y\": [31.70700584656992, 68.77759598163891, 62.562382297945796, 71.54663223356778, 87.23092513368738, 78.21151827079923, 79.64197304980873, 59.17148932186951, 75.33124229706307, 71.30087988685035, 55.16567714595912, 82.47884675749792, 62.00892324572583, 75.39287042599494, 81.43619215887864, 60.72360244067397, 82.8925037314537, 97.37989686216608, 48.84715331735507, 56.8772131862685, 83.87856466460275, 118.5912173025225, 57.25181946226897, 51.391744079832314, 75.38065166531234, 74.76556403215137, 95.45505292257471, 95.2293660175553, 79.05240616956559, 83.4320714213237, 63.358790317497885, 41.41288530370056, 76.61734128007404, 96.76956642610821, 74.08413011660254, 66.5881444142286, 77.76848241779301, 50.719588912312076, 62.12457081807179, 60.81024664990221, 52.68298336638778, 58.569824717692875, 82.90598148507051, 61.424709804339116, 115.24415280079529, 45.57058882337609, 54.08405479622361, 87.99445275811043, 52.72549437590042, 93.57611869265823, 80.16627544737095, 65.10171157056033, 65.56230126040037, 65.28088692082282, 73.4346415463243, 71.13972785861894, 79.10282968354986, 86.52053844034715, 84.7426978078262, 59.358850248624925, 61.68403752483361, 69.84760415824918, 86.0982912057741, 59.10883926769964, 69.89968164362763, 44.8624907111644, 85.49806777884022, 95.53668684646723, 70.2519344197716, 52.72173496477498, 50.3926701350799, 63.642398775657746, 72.24725106866238, 57.8125129761814, 104.2571015854382, 86.642020318822, 91.48677800011014, 55.23166088621284, 79.55043667850762, 44.8471242424676, 80.20752313968275, 83.14274979204346, 55.72348926054392, 77.63418251167785, 99.05141484174827, 79.12064627468001, 69.58889785111847, 69.51050331149439, 73.68756431831729, 61.36690453724013, 67.17065576899512, 85.66820314500154, 114.85387123391394, 90.12357206996742, 97.91982103524285, 81.53699078301506, 72.11183246961566, 85.23200734232566, 66.22495788805463, 53.45439421485053], \"yaxis\": \"y\"}],\n",
              "                        {\"legend\": {\"tracegroupgap\": 0}, \"margin\": {\"t\": 60}, \"template\": {\"data\": {\"bar\": [{\"error_x\": {\"color\": \"#f2f5fa\"}, \"error_y\": {\"color\": \"#f2f5fa\"}, \"marker\": {\"line\": {\"color\": \"rgb(17,17,17)\", \"width\": 0.5}}, \"type\": \"bar\"}], \"barpolar\": [{\"marker\": {\"line\": {\"color\": \"rgb(17,17,17)\", \"width\": 0.5}}, \"type\": \"barpolar\"}], \"carpet\": [{\"aaxis\": {\"endlinecolor\": \"#A2B1C6\", \"gridcolor\": \"#506784\", \"linecolor\": \"#506784\", \"minorgridcolor\": \"#506784\", \"startlinecolor\": \"#A2B1C6\"}, \"baxis\": {\"endlinecolor\": \"#A2B1C6\", \"gridcolor\": \"#506784\", \"linecolor\": \"#506784\", \"minorgridcolor\": \"#506784\", \"startlinecolor\": \"#A2B1C6\"}, \"type\": \"carpet\"}], \"choropleth\": [{\"colorbar\": {\"outlinewidth\": 0, \"ticks\": \"\"}, \"type\": \"choropleth\"}], \"contour\": [{\"colorbar\": {\"outlinewidth\": 0, \"ticks\": \"\"}, \"colorscale\": [[0.0, \"#0d0887\"], [0.1111111111111111, \"#46039f\"], [0.2222222222222222, \"#7201a8\"], [0.3333333333333333, \"#9c179e\"], [0.4444444444444444, \"#bd3786\"], [0.5555555555555556, \"#d8576b\"], [0.6666666666666666, \"#ed7953\"], [0.7777777777777778, \"#fb9f3a\"], [0.8888888888888888, \"#fdca26\"], [1.0, \"#f0f921\"]], \"type\": \"contour\"}], \"contourcarpet\": [{\"colorbar\": {\"outlinewidth\": 0, \"ticks\": \"\"}, \"type\": \"contourcarpet\"}], \"heatmap\": [{\"colorbar\": {\"outlinewidth\": 0, \"ticks\": \"\"}, \"colorscale\": [[0.0, \"#0d0887\"], [0.1111111111111111, \"#46039f\"], [0.2222222222222222, \"#7201a8\"], [0.3333333333333333, \"#9c179e\"], [0.4444444444444444, \"#bd3786\"], [0.5555555555555556, \"#d8576b\"], [0.6666666666666666, \"#ed7953\"], [0.7777777777777778, \"#fb9f3a\"], [0.8888888888888888, \"#fdca26\"], [1.0, \"#f0f921\"]], \"type\": \"heatmap\"}], \"heatmapgl\": [{\"colorbar\": {\"outlinewidth\": 0, \"ticks\": \"\"}, \"colorscale\": [[0.0, \"#0d0887\"], [0.1111111111111111, \"#46039f\"], [0.2222222222222222, \"#7201a8\"], [0.3333333333333333, \"#9c179e\"], [0.4444444444444444, \"#bd3786\"], [0.5555555555555556, \"#d8576b\"], [0.6666666666666666, \"#ed7953\"], [0.7777777777777778, \"#fb9f3a\"], [0.8888888888888888, \"#fdca26\"], [1.0, \"#f0f921\"]], \"type\": \"heatmapgl\"}], \"histogram\": [{\"marker\": {\"colorbar\": {\"outlinewidth\": 0, \"ticks\": \"\"}}, \"type\": \"histogram\"}], \"histogram2d\": [{\"colorbar\": {\"outlinewidth\": 0, \"ticks\": \"\"}, \"colorscale\": [[0.0, \"#0d0887\"], [0.1111111111111111, \"#46039f\"], [0.2222222222222222, \"#7201a8\"], [0.3333333333333333, \"#9c179e\"], [0.4444444444444444, \"#bd3786\"], [0.5555555555555556, \"#d8576b\"], [0.6666666666666666, \"#ed7953\"], [0.7777777777777778, \"#fb9f3a\"], [0.8888888888888888, \"#fdca26\"], [1.0, \"#f0f921\"]], \"type\": \"histogram2d\"}], \"histogram2dcontour\": [{\"colorbar\": {\"outlinewidth\": 0, \"ticks\": \"\"}, \"colorscale\": [[0.0, \"#0d0887\"], [0.1111111111111111, \"#46039f\"], [0.2222222222222222, \"#7201a8\"], [0.3333333333333333, \"#9c179e\"], [0.4444444444444444, \"#bd3786\"], [0.5555555555555556, \"#d8576b\"], [0.6666666666666666, \"#ed7953\"], [0.7777777777777778, \"#fb9f3a\"], [0.8888888888888888, \"#fdca26\"], [1.0, \"#f0f921\"]], \"type\": \"histogram2dcontour\"}], \"mesh3d\": [{\"colorbar\": {\"outlinewidth\": 0, \"ticks\": \"\"}, \"type\": \"mesh3d\"}], \"parcoords\": [{\"line\": {\"colorbar\": {\"outlinewidth\": 0, \"ticks\": \"\"}}, \"type\": \"parcoords\"}], \"pie\": [{\"automargin\": true, \"type\": \"pie\"}], \"scatter\": [{\"marker\": {\"line\": {\"color\": \"#283442\"}}, \"type\": \"scatter\"}], \"scatter3d\": [{\"line\": {\"colorbar\": {\"outlinewidth\": 0, \"ticks\": \"\"}}, \"marker\": {\"colorbar\": {\"outlinewidth\": 0, \"ticks\": \"\"}}, \"type\": \"scatter3d\"}], \"scattercarpet\": [{\"marker\": {\"colorbar\": {\"outlinewidth\": 0, \"ticks\": \"\"}}, \"type\": \"scattercarpet\"}], \"scattergeo\": [{\"marker\": {\"colorbar\": {\"outlinewidth\": 0, \"ticks\": \"\"}}, \"type\": \"scattergeo\"}], \"scattergl\": [{\"marker\": {\"line\": {\"color\": \"#283442\"}}, \"type\": \"scattergl\"}], \"scattermapbox\": [{\"marker\": {\"colorbar\": {\"outlinewidth\": 0, \"ticks\": \"\"}}, \"type\": \"scattermapbox\"}], \"scatterpolar\": [{\"marker\": {\"colorbar\": {\"outlinewidth\": 0, \"ticks\": \"\"}}, \"type\": \"scatterpolar\"}], \"scatterpolargl\": [{\"marker\": {\"colorbar\": {\"outlinewidth\": 0, \"ticks\": \"\"}}, \"type\": \"scatterpolargl\"}], \"scatterternary\": [{\"marker\": {\"colorbar\": {\"outlinewidth\": 0, \"ticks\": \"\"}}, \"type\": \"scatterternary\"}], \"surface\": [{\"colorbar\": {\"outlinewidth\": 0, \"ticks\": \"\"}, \"colorscale\": [[0.0, \"#0d0887\"], [0.1111111111111111, \"#46039f\"], [0.2222222222222222, \"#7201a8\"], [0.3333333333333333, \"#9c179e\"], [0.4444444444444444, \"#bd3786\"], [0.5555555555555556, \"#d8576b\"], [0.6666666666666666, \"#ed7953\"], [0.7777777777777778, \"#fb9f3a\"], [0.8888888888888888, \"#fdca26\"], [1.0, \"#f0f921\"]], \"type\": \"surface\"}], \"table\": [{\"cells\": {\"fill\": {\"color\": \"#506784\"}, \"line\": {\"color\": \"rgb(17,17,17)\"}}, \"header\": {\"fill\": {\"color\": \"#2a3f5f\"}, \"line\": {\"color\": \"rgb(17,17,17)\"}}, \"type\": \"table\"}]}, \"layout\": {\"annotationdefaults\": {\"arrowcolor\": \"#f2f5fa\", \"arrowhead\": 0, \"arrowwidth\": 1}, \"coloraxis\": {\"colorbar\": {\"outlinewidth\": 0, \"ticks\": \"\"}}, \"colorscale\": {\"diverging\": [[0, \"#8e0152\"], [0.1, \"#c51b7d\"], [0.2, \"#de77ae\"], [0.3, \"#f1b6da\"], [0.4, \"#fde0ef\"], [0.5, \"#f7f7f7\"], [0.6, \"#e6f5d0\"], [0.7, \"#b8e186\"], [0.8, \"#7fbc41\"], [0.9, \"#4d9221\"], [1, \"#276419\"]], \"sequential\": [[0.0, \"#0d0887\"], [0.1111111111111111, \"#46039f\"], [0.2222222222222222, \"#7201a8\"], [0.3333333333333333, \"#9c179e\"], [0.4444444444444444, \"#bd3786\"], [0.5555555555555556, \"#d8576b\"], [0.6666666666666666, \"#ed7953\"], [0.7777777777777778, \"#fb9f3a\"], [0.8888888888888888, \"#fdca26\"], [1.0, \"#f0f921\"]], \"sequentialminus\": [[0.0, \"#0d0887\"], [0.1111111111111111, \"#46039f\"], [0.2222222222222222, \"#7201a8\"], [0.3333333333333333, \"#9c179e\"], [0.4444444444444444, \"#bd3786\"], [0.5555555555555556, \"#d8576b\"], [0.6666666666666666, \"#ed7953\"], [0.7777777777777778, \"#fb9f3a\"], [0.8888888888888888, \"#fdca26\"], [1.0, \"#f0f921\"]]}, \"colorway\": [\"#636efa\", \"#EF553B\", \"#00cc96\", \"#ab63fa\", \"#FFA15A\", \"#19d3f3\", \"#FF6692\", \"#B6E880\", \"#FF97FF\", \"#FECB52\"], \"font\": {\"color\": \"#f2f5fa\"}, \"geo\": {\"bgcolor\": \"rgb(17,17,17)\", \"lakecolor\": \"rgb(17,17,17)\", \"landcolor\": \"rgb(17,17,17)\", \"showlakes\": true, \"showland\": true, \"subunitcolor\": \"#506784\"}, \"hoverlabel\": {\"align\": \"left\"}, \"hovermode\": \"closest\", \"mapbox\": {\"style\": \"dark\"}, \"paper_bgcolor\": \"rgb(17,17,17)\", \"plot_bgcolor\": \"rgb(17,17,17)\", \"polar\": {\"angularaxis\": {\"gridcolor\": \"#506784\", \"linecolor\": \"#506784\", \"ticks\": \"\"}, \"bgcolor\": \"rgb(17,17,17)\", \"radialaxis\": {\"gridcolor\": \"#506784\", \"linecolor\": \"#506784\", \"ticks\": \"\"}}, \"scene\": {\"xaxis\": {\"backgroundcolor\": \"rgb(17,17,17)\", \"gridcolor\": \"#506784\", \"gridwidth\": 2, \"linecolor\": \"#506784\", \"showbackground\": true, \"ticks\": \"\", \"zerolinecolor\": \"#C8D4E3\"}, \"yaxis\": {\"backgroundcolor\": \"rgb(17,17,17)\", \"gridcolor\": \"#506784\", \"gridwidth\": 2, \"linecolor\": \"#506784\", \"showbackground\": true, \"ticks\": \"\", \"zerolinecolor\": \"#C8D4E3\"}, \"zaxis\": {\"backgroundcolor\": \"rgb(17,17,17)\", \"gridcolor\": \"#506784\", \"gridwidth\": 2, \"linecolor\": \"#506784\", \"showbackground\": true, \"ticks\": \"\", \"zerolinecolor\": \"#C8D4E3\"}}, \"shapedefaults\": {\"line\": {\"color\": \"#f2f5fa\"}}, \"sliderdefaults\": {\"bgcolor\": \"#C8D4E3\", \"bordercolor\": \"rgb(17,17,17)\", \"borderwidth\": 1, \"tickwidth\": 0}, \"ternary\": {\"aaxis\": {\"gridcolor\": \"#506784\", \"linecolor\": \"#506784\", \"ticks\": \"\"}, \"baxis\": {\"gridcolor\": \"#506784\", \"linecolor\": \"#506784\", \"ticks\": \"\"}, \"bgcolor\": \"rgb(17,17,17)\", \"caxis\": {\"gridcolor\": \"#506784\", \"linecolor\": \"#506784\", \"ticks\": \"\"}}, \"title\": {\"x\": 0.05}, \"updatemenudefaults\": {\"bgcolor\": \"#506784\", \"borderwidth\": 0}, \"xaxis\": {\"automargin\": true, \"gridcolor\": \"#283442\", \"linecolor\": \"#506784\", \"ticks\": \"\", \"title\": {\"standoff\": 15}, \"zerolinecolor\": \"#283442\", \"zerolinewidth\": 2}, \"yaxis\": {\"automargin\": true, \"gridcolor\": \"#283442\", \"linecolor\": \"#506784\", \"ticks\": \"\", \"title\": {\"standoff\": 15}, \"zerolinecolor\": \"#283442\", \"zerolinewidth\": 2}}}, \"xaxis\": {\"anchor\": \"y\", \"domain\": [0.0, 1.0], \"title\": {\"text\": \"x\"}}, \"yaxis\": {\"anchor\": \"x\", \"domain\": [0.0, 1.0], \"title\": {\"text\": \"y\"}}},\n",
              "                        {\"responsive\": true}\n",
              "                    ).then(function(){\n",
              "                            \n",
              "var gd = document.getElementById('05f05aed-61a1-4eba-8e50-9ba159516465');\n",
              "var x = new MutationObserver(function (mutations, observer) {{\n",
              "        var display = window.getComputedStyle(gd).display;\n",
              "        if (!display || display === 'none') {{\n",
              "            console.log([gd, 'removed!']);\n",
              "            Plotly.purge(gd);\n",
              "            observer.disconnect();\n",
              "        }}\n",
              "}});\n",
              "\n",
              "// Listen for the removal of the full notebook cells\n",
              "var notebookContainer = gd.closest('#notebook-container');\n",
              "if (notebookContainer) {{\n",
              "    x.observe(notebookContainer, {childList: true});\n",
              "}}\n",
              "\n",
              "// Listen for the clearing of the current output cell\n",
              "var outputEl = gd.closest('.output');\n",
              "if (outputEl) {{\n",
              "    x.observe(outputEl, {childList: true});\n",
              "}}\n",
              "\n",
              "                        })\n",
              "                };\n",
              "                \n",
              "            </script>\n",
              "        </div>\n",
              "</body>\n",
              "</html>"
            ]
          },
          "metadata": {
            "tags": []
          }
        }
      ]
    },
    {
      "cell_type": "markdown",
      "metadata": {
        "id": "YE2JeSzZtrj_"
      },
      "source": [
        "The fundamental idea behind linear regression is that there is a linear relation ship between the X and y variables defined as follows:\n",
        "![image.png](data:image/png;base64,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)"
      ]
    },
    {
      "cell_type": "markdown",
      "metadata": {
        "id": "v6V9bTqruYAf"
      },
      "source": [
        "The cost function is the mean error between the predicted value of the model and the actual observation.\n",
        "\n",
        "We will use the Mean Squared Error function to calculate the cost. There are three steps in this function:\n",
        "* Find the difference between the actual y and predicted y value(y = mx + c), for a given x.\n",
        "* Square this difference.\n",
        "* Find the mean of the squares for every value in X.\n",
        "\n",
        "![image.png](data:image/png;base64,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)"
      ]
    },
    {
      "cell_type": "code",
      "metadata": {
        "colab": {
          "base_uri": "https://localhost:8080/"
        },
        "id": "4XT7ElYQqn41",
        "outputId": "0c21f2fa-869d-4258-ef70-b2f2bd53e4a9"
      },
      "source": [
        "# Building the model\n",
        "m = 0\n",
        "c = 0\n",
        "\n",
        "L = 0.0001  # The learning Rate\n",
        "epochs = 10000  # The number of iterations to perform gradient descent\n",
        "\n",
        "n = float(len(X)) # Number of elements in X\n",
        "\n",
        "# Performing Gradient Descent \n",
        "for i in range(epochs): \n",
        "    Y_pred = m*X + c  # The current predicted value of Y\n",
        "    D_m = (-2/n) * sum(X * (y - Y_pred))  # Derivative wrt m\n",
        "    D_c = (-2/n) * sum(y - Y_pred)  # Derivative wrt c\n",
        "    m = m - L * D_m  # Update m\n",
        "    c = c - L * D_c  # Update c\n",
        "    \n",
        "print(m, c)"
      ],
      "execution_count": null,
      "outputs": [
        {
          "output_type": "stream",
          "text": [
            "1.4675440436333027 0.6078985997054931\n"
          ],
          "name": "stdout"
        }
      ]
    },
    {
      "cell_type": "code",
      "metadata": {
        "id": "IVLFCKoHrZtK"
      },
      "source": [
        "Y_pred = m*X + c"
      ],
      "execution_count": null,
      "outputs": []
    },
    {
      "cell_type": "code",
      "metadata": {
        "colab": {
          "base_uri": "https://localhost:8080/",
          "height": 542
        },
        "id": "uHgJsyy4rpnV",
        "outputId": "00aaa127-a759-4606-93b1-82a1e924933d"
      },
      "source": [
        "fig = px.scatter(x=X,y=y,template=\"plotly_dark\")\n",
        "fig.add_trace(go.Scatter(x=[min(X), max(X)],y = [min(Y_pred), max(Y_pred)],name=\"Fit line\"))\n",
        "fig.show()"
      ],
      "execution_count": null,
      "outputs": [
        {
          "output_type": "display_data",
          "data": {
            "text/html": [
              "<html>\n",
              "<head><meta charset=\"utf-8\" /></head>\n",
              "<body>\n",
              "    <div>\n",
              "            <script src=\"https://cdnjs.cloudflare.com/ajax/libs/mathjax/2.7.5/MathJax.js?config=TeX-AMS-MML_SVG\"></script><script type=\"text/javascript\">if (window.MathJax) {MathJax.Hub.Config({SVG: {font: \"STIX-Web\"}});}</script>\n",
              "                <script type=\"text/javascript\">window.PlotlyConfig = {MathJaxConfig: 'local'};</script>\n",
              "        <script src=\"https://cdn.plot.ly/plotly-latest.min.js\"></script>    \n",
              "            <div id=\"5f097ba4-1f66-4cc0-aa11-7ce912a1fb99\" class=\"plotly-graph-div\" style=\"height:525px; width:100%;\"></div>\n",
              "            <script type=\"text/javascript\">\n",
              "                \n",
              "                    window.PLOTLYENV=window.PLOTLYENV || {};\n",
              "                    \n",
              "                if (document.getElementById(\"5f097ba4-1f66-4cc0-aa11-7ce912a1fb99\")) {\n",
              "                    Plotly.newPlot(\n",
              "                        '5f097ba4-1f66-4cc0-aa11-7ce912a1fb99',\n",
              "                        [{\"hoverlabel\": {\"namelength\": 0}, \"hovertemplate\": \"x=%{x}<br>y=%{y}\", \"legendgroup\": \"\", \"marker\": {\"color\": \"#636efa\", \"symbol\": \"circle\"}, \"mode\": \"markers\", \"name\": \"\", \"showlegend\": false, \"type\": \"scatter\", \"x\": [32.50234526945303, 53.426804033275026, 61.53035802563643, 47.4756396347861, 59.81320786951232, 55.14218841394383, 52.211796692214, 39.299566694317065, 48.10504169176824, 52.55001444273382, 45.419730144973755, 54.351634881228925, 44.164049496773345, 58.16847071685778, 56.727208057096604, 48.95588856609372, 44.6871962314809, 60.297326851333466, 45.61864377295583, 38.816817537445644, 66.1898166067526, 65.41605174513407, 47.48120860786787, 41.57564261748703, 51.84518690563943, 59.37082201108952, 57.31000343834809, 63.61556125145329, 46.73761940797697, 50.556760148547774, 52.22399608555305, 35.56783004774663, 42.43647694405564, 58.16454011019286, 57.504447615341775, 45.440530725319974, 61.89622268029126, 33.09383173616396, 36.436009511386864, 37.675654860850734, 44.555608383275356, 43.31828263186572, 50.07314563228904, 43.870612645218365, 62.99748074755309, 32.669043763467194, 40.166899008703695, 53.575077531673664, 33.86421497177824, 64.7071386661213, 38.11982402682281, 44.5025380646451, 40.59953838455232, 41.72067635634129, 51.0886346783368, 55.0780959049232, 41.3777265348952, 62.49469742726979, 49.203887540825995, 41.102685187349664, 41.18201610516983, 50.1863894948806, 52.378446219236224, 50.135485486286115, 33.64470600619178, 39.55790122290683, 56.13038881687546, 57.36205213323824, 60.269214393997906, 35.678093889410725, 31.58811699813283, 53.66093226167304, 46.682228649471924, 43.10782021910247, 70.34607561504933, 44.49285588085407, 57.5045333032684, 36.930076609191815, 55.80573335794274, 38.95476907337706, 56.90121470224707, 56.868900661384046, 34.33312470421609, 59.04974121466682, 57.788223993230666, 54.28232870596741, 51.088719898979136, 50.282836348230724, 44.21174175209011, 38.00548800806069, 32.940479942618296, 53.69163957107006, 68.76573426962166, 46.23096649831025, 68.31936081825536, 50.030174340312136, 49.239765342753756, 50.039575939875995, 48.14985889102886, 25.128484647772304], \"xaxis\": \"x\", \"y\": [31.70700584656992, 68.77759598163891, 62.562382297945796, 71.54663223356778, 87.23092513368738, 78.21151827079923, 79.64197304980873, 59.17148932186951, 75.33124229706307, 71.30087988685035, 55.16567714595912, 82.47884675749792, 62.00892324572583, 75.39287042599494, 81.43619215887864, 60.72360244067397, 82.8925037314537, 97.37989686216608, 48.84715331735507, 56.8772131862685, 83.87856466460275, 118.5912173025225, 57.25181946226897, 51.391744079832314, 75.38065166531234, 74.76556403215137, 95.45505292257471, 95.2293660175553, 79.05240616956559, 83.4320714213237, 63.358790317497885, 41.41288530370056, 76.61734128007404, 96.76956642610821, 74.08413011660254, 66.5881444142286, 77.76848241779301, 50.719588912312076, 62.12457081807179, 60.81024664990221, 52.68298336638778, 58.569824717692875, 82.90598148507051, 61.424709804339116, 115.24415280079529, 45.57058882337609, 54.08405479622361, 87.99445275811043, 52.72549437590042, 93.57611869265823, 80.16627544737095, 65.10171157056033, 65.56230126040037, 65.28088692082282, 73.4346415463243, 71.13972785861894, 79.10282968354986, 86.52053844034715, 84.7426978078262, 59.358850248624925, 61.68403752483361, 69.84760415824918, 86.0982912057741, 59.10883926769964, 69.89968164362763, 44.8624907111644, 85.49806777884022, 95.53668684646723, 70.2519344197716, 52.72173496477498, 50.3926701350799, 63.642398775657746, 72.24725106866238, 57.8125129761814, 104.2571015854382, 86.642020318822, 91.48677800011014, 55.23166088621284, 79.55043667850762, 44.8471242424676, 80.20752313968275, 83.14274979204346, 55.72348926054392, 77.63418251167785, 99.05141484174827, 79.12064627468001, 69.58889785111847, 69.51050331149439, 73.68756431831729, 61.36690453724013, 67.17065576899512, 85.66820314500154, 114.85387123391394, 90.12357206996742, 97.91982103524285, 81.53699078301506, 72.11183246961566, 85.23200734232566, 66.22495788805463, 53.45439421485053], \"yaxis\": \"y\"}, {\"name\": \"Fit line\", \"type\": \"scatter\", \"x\": [25.128484647772304, 70.34607561504933], \"y\": [37.485056570074626, 103.84386286154906]}],\n",
              "                        {\"legend\": {\"tracegroupgap\": 0}, \"margin\": {\"t\": 60}, \"template\": {\"data\": {\"bar\": [{\"error_x\": {\"color\": \"#f2f5fa\"}, \"error_y\": {\"color\": \"#f2f5fa\"}, \"marker\": {\"line\": {\"color\": \"rgb(17,17,17)\", \"width\": 0.5}}, \"type\": \"bar\"}], \"barpolar\": [{\"marker\": {\"line\": {\"color\": \"rgb(17,17,17)\", \"width\": 0.5}}, \"type\": \"barpolar\"}], \"carpet\": [{\"aaxis\": {\"endlinecolor\": \"#A2B1C6\", \"gridcolor\": \"#506784\", \"linecolor\": \"#506784\", \"minorgridcolor\": \"#506784\", \"startlinecolor\": \"#A2B1C6\"}, \"baxis\": {\"endlinecolor\": \"#A2B1C6\", \"gridcolor\": \"#506784\", \"linecolor\": \"#506784\", \"minorgridcolor\": \"#506784\", \"startlinecolor\": \"#A2B1C6\"}, \"type\": \"carpet\"}], \"choropleth\": [{\"colorbar\": {\"outlinewidth\": 0, \"ticks\": \"\"}, \"type\": \"choropleth\"}], \"contour\": [{\"colorbar\": {\"outlinewidth\": 0, \"ticks\": \"\"}, \"colorscale\": [[0.0, \"#0d0887\"], [0.1111111111111111, \"#46039f\"], [0.2222222222222222, \"#7201a8\"], [0.3333333333333333, \"#9c179e\"], [0.4444444444444444, \"#bd3786\"], [0.5555555555555556, \"#d8576b\"], [0.6666666666666666, \"#ed7953\"], [0.7777777777777778, \"#fb9f3a\"], [0.8888888888888888, \"#fdca26\"], [1.0, \"#f0f921\"]], \"type\": \"contour\"}], \"contourcarpet\": [{\"colorbar\": {\"outlinewidth\": 0, \"ticks\": \"\"}, \"type\": \"contourcarpet\"}], \"heatmap\": [{\"colorbar\": {\"outlinewidth\": 0, \"ticks\": \"\"}, \"colorscale\": [[0.0, \"#0d0887\"], [0.1111111111111111, \"#46039f\"], [0.2222222222222222, \"#7201a8\"], [0.3333333333333333, \"#9c179e\"], [0.4444444444444444, \"#bd3786\"], [0.5555555555555556, \"#d8576b\"], [0.6666666666666666, \"#ed7953\"], [0.7777777777777778, \"#fb9f3a\"], [0.8888888888888888, \"#fdca26\"], [1.0, \"#f0f921\"]], \"type\": \"heatmap\"}], \"heatmapgl\": [{\"colorbar\": {\"outlinewidth\": 0, \"ticks\": \"\"}, \"colorscale\": [[0.0, \"#0d0887\"], [0.1111111111111111, \"#46039f\"], [0.2222222222222222, \"#7201a8\"], [0.3333333333333333, \"#9c179e\"], [0.4444444444444444, \"#bd3786\"], [0.5555555555555556, \"#d8576b\"], [0.6666666666666666, \"#ed7953\"], [0.7777777777777778, \"#fb9f3a\"], [0.8888888888888888, \"#fdca26\"], [1.0, \"#f0f921\"]], \"type\": \"heatmapgl\"}], \"histogram\": [{\"marker\": {\"colorbar\": {\"outlinewidth\": 0, \"ticks\": \"\"}}, \"type\": \"histogram\"}], \"histogram2d\": [{\"colorbar\": {\"outlinewidth\": 0, \"ticks\": \"\"}, \"colorscale\": [[0.0, \"#0d0887\"], [0.1111111111111111, \"#46039f\"], [0.2222222222222222, \"#7201a8\"], [0.3333333333333333, \"#9c179e\"], [0.4444444444444444, \"#bd3786\"], [0.5555555555555556, \"#d8576b\"], [0.6666666666666666, \"#ed7953\"], [0.7777777777777778, \"#fb9f3a\"], [0.8888888888888888, \"#fdca26\"], [1.0, \"#f0f921\"]], \"type\": \"histogram2d\"}], \"histogram2dcontour\": [{\"colorbar\": {\"outlinewidth\": 0, \"ticks\": \"\"}, \"colorscale\": [[0.0, \"#0d0887\"], [0.1111111111111111, \"#46039f\"], [0.2222222222222222, \"#7201a8\"], [0.3333333333333333, \"#9c179e\"], [0.4444444444444444, \"#bd3786\"], [0.5555555555555556, \"#d8576b\"], [0.6666666666666666, \"#ed7953\"], [0.7777777777777778, \"#fb9f3a\"], [0.8888888888888888, \"#fdca26\"], [1.0, \"#f0f921\"]], \"type\": \"histogram2dcontour\"}], \"mesh3d\": [{\"colorbar\": {\"outlinewidth\": 0, \"ticks\": \"\"}, \"type\": \"mesh3d\"}], \"parcoords\": [{\"line\": {\"colorbar\": {\"outlinewidth\": 0, \"ticks\": \"\"}}, \"type\": \"parcoords\"}], \"pie\": [{\"automargin\": true, \"type\": \"pie\"}], \"scatter\": [{\"marker\": {\"line\": {\"color\": \"#283442\"}}, \"type\": \"scatter\"}], \"scatter3d\": [{\"line\": {\"colorbar\": {\"outlinewidth\": 0, \"ticks\": \"\"}}, \"marker\": {\"colorbar\": {\"outlinewidth\": 0, \"ticks\": \"\"}}, \"type\": \"scatter3d\"}], \"scattercarpet\": [{\"marker\": {\"colorbar\": {\"outlinewidth\": 0, \"ticks\": \"\"}}, \"type\": \"scattercarpet\"}], \"scattergeo\": [{\"marker\": {\"colorbar\": {\"outlinewidth\": 0, \"ticks\": \"\"}}, \"type\": \"scattergeo\"}], \"scattergl\": [{\"marker\": {\"line\": {\"color\": \"#283442\"}}, \"type\": \"scattergl\"}], \"scattermapbox\": [{\"marker\": {\"colorbar\": {\"outlinewidth\": 0, \"ticks\": \"\"}}, \"type\": \"scattermapbox\"}], \"scatterpolar\": [{\"marker\": {\"colorbar\": {\"outlinewidth\": 0, \"ticks\": \"\"}}, \"type\": \"scatterpolar\"}], \"scatterpolargl\": [{\"marker\": {\"colorbar\": {\"outlinewidth\": 0, \"ticks\": \"\"}}, \"type\": \"scatterpolargl\"}], \"scatterternary\": [{\"marker\": {\"colorbar\": {\"outlinewidth\": 0, \"ticks\": \"\"}}, \"type\": \"scatterternary\"}], \"surface\": [{\"colorbar\": {\"outlinewidth\": 0, \"ticks\": \"\"}, \"colorscale\": [[0.0, \"#0d0887\"], [0.1111111111111111, \"#46039f\"], [0.2222222222222222, \"#7201a8\"], [0.3333333333333333, \"#9c179e\"], [0.4444444444444444, \"#bd3786\"], [0.5555555555555556, \"#d8576b\"], [0.6666666666666666, \"#ed7953\"], [0.7777777777777778, \"#fb9f3a\"], [0.8888888888888888, \"#fdca26\"], [1.0, \"#f0f921\"]], \"type\": \"surface\"}], \"table\": [{\"cells\": {\"fill\": {\"color\": \"#506784\"}, \"line\": {\"color\": \"rgb(17,17,17)\"}}, \"header\": {\"fill\": {\"color\": \"#2a3f5f\"}, \"line\": {\"color\": \"rgb(17,17,17)\"}}, \"type\": \"table\"}]}, \"layout\": {\"annotationdefaults\": {\"arrowcolor\": \"#f2f5fa\", \"arrowhead\": 0, \"arrowwidth\": 1}, \"coloraxis\": {\"colorbar\": {\"outlinewidth\": 0, \"ticks\": \"\"}}, \"colorscale\": {\"diverging\": [[0, \"#8e0152\"], [0.1, \"#c51b7d\"], [0.2, \"#de77ae\"], [0.3, \"#f1b6da\"], [0.4, \"#fde0ef\"], [0.5, \"#f7f7f7\"], [0.6, \"#e6f5d0\"], [0.7, \"#b8e186\"], [0.8, \"#7fbc41\"], [0.9, \"#4d9221\"], [1, \"#276419\"]], \"sequential\": [[0.0, \"#0d0887\"], [0.1111111111111111, \"#46039f\"], [0.2222222222222222, \"#7201a8\"], [0.3333333333333333, \"#9c179e\"], [0.4444444444444444, \"#bd3786\"], [0.5555555555555556, \"#d8576b\"], [0.6666666666666666, \"#ed7953\"], [0.7777777777777778, \"#fb9f3a\"], [0.8888888888888888, \"#fdca26\"], [1.0, \"#f0f921\"]], \"sequentialminus\": [[0.0, \"#0d0887\"], [0.1111111111111111, \"#46039f\"], [0.2222222222222222, \"#7201a8\"], [0.3333333333333333, \"#9c179e\"], [0.4444444444444444, \"#bd3786\"], [0.5555555555555556, \"#d8576b\"], [0.6666666666666666, \"#ed7953\"], [0.7777777777777778, \"#fb9f3a\"], [0.8888888888888888, \"#fdca26\"], [1.0, \"#f0f921\"]]}, \"colorway\": [\"#636efa\", \"#EF553B\", \"#00cc96\", \"#ab63fa\", \"#FFA15A\", \"#19d3f3\", \"#FF6692\", \"#B6E880\", \"#FF97FF\", \"#FECB52\"], \"font\": {\"color\": \"#f2f5fa\"}, \"geo\": {\"bgcolor\": \"rgb(17,17,17)\", \"lakecolor\": \"rgb(17,17,17)\", \"landcolor\": \"rgb(17,17,17)\", \"showlakes\": true, \"showland\": true, \"subunitcolor\": \"#506784\"}, \"hoverlabel\": {\"align\": \"left\"}, \"hovermode\": \"closest\", \"mapbox\": {\"style\": \"dark\"}, \"paper_bgcolor\": \"rgb(17,17,17)\", \"plot_bgcolor\": \"rgb(17,17,17)\", \"polar\": {\"angularaxis\": {\"gridcolor\": \"#506784\", \"linecolor\": \"#506784\", \"ticks\": \"\"}, \"bgcolor\": \"rgb(17,17,17)\", \"radialaxis\": {\"gridcolor\": \"#506784\", \"linecolor\": \"#506784\", \"ticks\": \"\"}}, \"scene\": {\"xaxis\": {\"backgroundcolor\": \"rgb(17,17,17)\", \"gridcolor\": \"#506784\", \"gridwidth\": 2, \"linecolor\": \"#506784\", \"showbackground\": true, \"ticks\": \"\", \"zerolinecolor\": \"#C8D4E3\"}, \"yaxis\": {\"backgroundcolor\": \"rgb(17,17,17)\", \"gridcolor\": \"#506784\", \"gridwidth\": 2, \"linecolor\": \"#506784\", \"showbackground\": true, \"ticks\": \"\", \"zerolinecolor\": \"#C8D4E3\"}, \"zaxis\": {\"backgroundcolor\": \"rgb(17,17,17)\", \"gridcolor\": \"#506784\", \"gridwidth\": 2, \"linecolor\": \"#506784\", \"showbackground\": true, \"ticks\": \"\", \"zerolinecolor\": \"#C8D4E3\"}}, \"shapedefaults\": {\"line\": {\"color\": \"#f2f5fa\"}}, \"sliderdefaults\": {\"bgcolor\": \"#C8D4E3\", \"bordercolor\": \"rgb(17,17,17)\", \"borderwidth\": 1, \"tickwidth\": 0}, \"ternary\": {\"aaxis\": {\"gridcolor\": \"#506784\", \"linecolor\": \"#506784\", \"ticks\": \"\"}, \"baxis\": {\"gridcolor\": \"#506784\", \"linecolor\": \"#506784\", \"ticks\": \"\"}, \"bgcolor\": \"rgb(17,17,17)\", \"caxis\": {\"gridcolor\": \"#506784\", \"linecolor\": \"#506784\", \"ticks\": \"\"}}, \"title\": {\"x\": 0.05}, \"updatemenudefaults\": {\"bgcolor\": \"#506784\", \"borderwidth\": 0}, \"xaxis\": {\"automargin\": true, \"gridcolor\": \"#283442\", \"linecolor\": \"#506784\", \"ticks\": \"\", \"title\": {\"standoff\": 15}, \"zerolinecolor\": \"#283442\", \"zerolinewidth\": 2}, \"yaxis\": {\"automargin\": true, \"gridcolor\": \"#283442\", \"linecolor\": \"#506784\", \"ticks\": \"\", \"title\": {\"standoff\": 15}, \"zerolinecolor\": \"#283442\", \"zerolinewidth\": 2}}}, \"xaxis\": {\"anchor\": \"y\", \"domain\": [0.0, 1.0], \"title\": {\"text\": \"x\"}}, \"yaxis\": {\"anchor\": \"x\", \"domain\": [0.0, 1.0], \"title\": {\"text\": \"y\"}}},\n",
              "                        {\"responsive\": true}\n",
              "                    ).then(function(){\n",
              "                            \n",
              "var gd = document.getElementById('5f097ba4-1f66-4cc0-aa11-7ce912a1fb99');\n",
              "var x = new MutationObserver(function (mutations, observer) {{\n",
              "        var display = window.getComputedStyle(gd).display;\n",
              "        if (!display || display === 'none') {{\n",
              "            console.log([gd, 'removed!']);\n",
              "            Plotly.purge(gd);\n",
              "            observer.disconnect();\n",
              "        }}\n",
              "}});\n",
              "\n",
              "// Listen for the removal of the full notebook cells\n",
              "var notebookContainer = gd.closest('#notebook-container');\n",
              "if (notebookContainer) {{\n",
              "    x.observe(notebookContainer, {childList: true});\n",
              "}}\n",
              "\n",
              "// Listen for the clearing of the current output cell\n",
              "var outputEl = gd.closest('.output');\n",
              "if (outputEl) {{\n",
              "    x.observe(outputEl, {childList: true});\n",
              "}}\n",
              "\n",
              "                        })\n",
              "                };\n",
              "                \n",
              "            </script>\n",
              "        </div>\n",
              "</body>\n",
              "</html>"
            ]
          },
          "metadata": {
            "tags": []
          }
        }
      ]
    },
    {
      "cell_type": "code",
      "metadata": {
        "id": "vwglLR68sCIA"
      },
      "source": [
        ""
      ],
      "execution_count": null,
      "outputs": []
    }
  ]
}
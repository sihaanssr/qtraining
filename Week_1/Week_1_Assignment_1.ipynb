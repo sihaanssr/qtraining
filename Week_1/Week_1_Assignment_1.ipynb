{
  "nbformat": 4,
  "nbformat_minor": 0,
  "metadata": {
    "colab": {
      "name": "Week_1_Assignment_1_clean.ipynb",
      "provenance": [],
      "collapsed_sections": []
    },
    "kernelspec": {
      "name": "python3",
      "display_name": "Python 3"
    },
    "language_info": {
      "name": "python"
    }
  },
  "cells": [
    {
      "cell_type": "code",
      "metadata": {
        "id": "X3eBb7AX0Ww2"
      },
      "source": [
        "import numpy as np\n",
        "import requests, gzip, os, hashlib\n",
        "import matplotlib.pyplot as plt"
      ],
      "execution_count": 1,
      "outputs": []
    },
    {
      "cell_type": "code",
      "metadata": {
        "id": "J5BXCTO-0dCA"
      },
      "source": [
        "path='/content/'\n",
        "def fetch(url):\n",
        "    fp = os.path.join(path, hashlib.md5(url.encode('utf-8')).hexdigest())\n",
        "    if os.path.isfile(fp):\n",
        "        with open(fp, \"rb\") as f:\n",
        "            data = f.read()\n",
        "    else:\n",
        "        with open(fp, \"wb\") as f:\n",
        "            data = requests.get(url).content\n",
        "            f.write(data)\n",
        "    return np.frombuffer(gzip.decompress(data), dtype=np.uint8).copy()"
      ],
      "execution_count": 2,
      "outputs": []
    },
    {
      "cell_type": "code",
      "metadata": {
        "id": "02mPhTJW0fWH"
      },
      "source": [
        "X = fetch(\"http://yann.lecun.com/exdb/mnist/train-images-idx3-ubyte.gz\")[0x10:].reshape((-1, 28, 28))\n",
        "y = fetch(\"http://yann.lecun.com/exdb/mnist/train-labels-idx1-ubyte.gz\")[8:]\n",
        "X_test = fetch(\"http://yann.lecun.com/exdb/mnist/t10k-images-idx3-ubyte.gz\")[0x10:].reshape((-1, 28*28))\n",
        "y_test = fetch(\"http://yann.lecun.com/exdb/mnist/t10k-labels-idx1-ubyte.gz\")[8:]"
      ],
      "execution_count": 3,
      "outputs": []
    },
    {
      "cell_type": "code",
      "metadata": {
        "id": "agyUiJRY0hva"
      },
      "source": [
        "images = X.reshape(60000,28*28)/255\n",
        "labels = np.eye(10)[y]\n",
        "images_test = X_test.reshape(10000,28*28)/255\n",
        "labels_test = np.eye(10)[y]\n",
        "\n",
        "W1 = np.random.uniform(-0.5, 0.5, (20, 784))\n",
        "W2 = np.random.uniform(-0.5, 0.5, (10, 20))\n",
        "b1 = np.zeros((20, 1))\n",
        "b2 = np.zeros((10, 1))\n",
        "\n",
        "learn_rate = 0.05\n",
        "nr_correct = 0\n",
        "epochs = 3"
      ],
      "execution_count": 4,
      "outputs": []
    },
    {
      "cell_type": "code",
      "metadata": {
        "colab": {
          "base_uri": "https://localhost:8080/"
        },
        "id": "lEkGeruX0pAP",
        "outputId": "62421d8c-d1f3-41dd-c167-67455e8f93be"
      },
      "source": [
        "# Currently working l = label\n",
        "for epoch in range(epochs):\n",
        "    for img, label in zip(images, labels):\n",
        "        img.shape += (1,)\n",
        "        label.shape += (1,)\n",
        "\n",
        "        # Forward propagation input -> hidden\n",
        "        Z1 = b1 + W1 @ img\n",
        "        a1 = 1 / (1 + np.exp(-Z1))\n",
        "\n",
        "        # Forward propagation hidden -> output\n",
        "        Z2 = b2 + W2 @ a1\n",
        "        a2 = 1 / (1 + np.exp(-Z2))\n",
        "\n",
        "        # Cost / Error calculation\n",
        "        e = 1 / len(a2) * np.sum((a2 - label) ** 2, axis=0)\n",
        "        nr_correct += int(np.argmax(a2) == np.argmax(label))\n",
        "\n",
        "        # Backpropagation output -> hidden (cost function derivative)\n",
        "        delta_o = a2 - label\n",
        "        W2 += -learn_rate * delta_o @ np.transpose(a1)\n",
        "        b2 += -learn_rate * delta_o\n",
        "\n",
        "        # Backpropagation hidden -> input (activation function derivative)\n",
        "        delta_h = np.transpose(W2) @ delta_o * (a1 * (1 - a1))\n",
        "        W1 += -learn_rate * delta_h @ np.transpose(img)\n",
        "        b1 += -learn_rate * delta_h\n",
        "\n",
        "    # Show accuracy for this epoch\n",
        "    print(f\"Acc: {round((nr_correct / images.shape[0]) * 100, 2)}%\")\n",
        "    nr_correct = 0"
      ],
      "execution_count": 5,
      "outputs": [
        {
          "output_type": "stream",
          "text": [
            "Acc: 90.05%\n",
            "Acc: 93.29%\n",
            "Acc: 94.06%\n"
          ],
          "name": "stdout"
        }
      ]
    },
    {
      "cell_type": "code",
      "metadata": {
        "colab": {
          "base_uri": "https://localhost:8080/",
          "height": 1000
        },
        "id": "SE2VlJD90sXR",
        "outputId": "4cc4a7b4-0bc3-4a5f-c1d5-1a7f58c8f9b1"
      },
      "source": [
        "# Show results\n",
        "while True:\n",
        "    index = input(\"Enter a number (0 - 9999): \\n\")\n",
        "    if index==\"stop\":\n",
        "      break\n",
        "    index = int(index)\n",
        "    img = images_test[index]\n",
        "    plt.imshow(img.reshape(28, 28), cmap=\"Greys\")\n",
        " \n",
        "    img.shape += (1,)\n",
        "    # Forward propagation input -> hidden\n",
        "    Z1 = b1 + W1 @ img.reshape(784, 1)\n",
        "    a1 = 1 / (1 + np.exp(-Z1))\n",
        "    # Forward propagation hidden -> output\n",
        "    Z2 = b2 + W2 @ a1\n",
        "    a2 = 1 / (1 + np.exp(-Z2))\n",
        " \n",
        "    plt.title(f\"Hope its a {a2.argmax()} :)\")\n",
        "    plt.show()"
      ],
      "execution_count": 6,
      "outputs": [
        {
          "output_type": "stream",
          "text": [
            "Enter a number (0 - 9999): \n",
            "12\n"
          ],
          "name": "stdout"
        },
        {
          "output_type": "display_data",
          "data": {
            "image/png": "[encoded data removed]",
            "text/plain": [
              "<Figure size 432x288 with 1 Axes>"
            ]
          },
          "metadata": {
            "tags": [],
            "needs_background": "light"
          }
        },
        {
          "output_type": "stream",
          "text": [
            "Enter a number (0 - 9999): \n",
            "40\n"
          ],
          "name": "stdout"
        },
        {
          "output_type": "display_data",
          "data": {
            "image/png": "[encoded data removed]",
            "text/plain": [
              "<Figure size 432x288 with 1 Axes>"
            ]
          },
          "metadata": {
            "tags": [],
            "needs_background": "light"
          }
        },
        {
          "output_type": "stream",
          "text": [
            "Enter a number (0 - 9999): \n",
            "678\n"
          ],
          "name": "stdout"
        },
        {
          "output_type": "display_data",
          "data": {
            "image/png": "[encoded data removed]",
            "text/plain": [
              "<Figure size 432x288 with 1 Axes>"
            ]
          },
          "metadata": {
            "tags": [],
            "needs_background": "light"
          }
        },
        {
          "output_type": "stream",
          "text": [
            "Enter a number (0 - 9999): \n",
            "6\n"
          ],
          "name": "stdout"
        },
        {
          "output_type": "display_data",
          "data": {
            "image/png": "[encoded data removed]",
            "text/plain": [
              "<Figure size 432x288 with 1 Axes>"
            ]
          },
          "metadata": {
            "tags": [],
            "needs_background": "light"
          }
        },
        {
          "output_type": "stream",
          "text": [
            "Enter a number (0 - 9999): \n",
            "90\n"
          ],
          "name": "stdout"
        },
        {
          "output_type": "display_data",
          "data": {
            "image/png": "[encoded data removed]",
            "text/plain": [
              "<Figure size 432x288 with 1 Axes>"
            ]
          },
          "metadata": {
            "tags": [],
            "needs_background": "light"
          }
        },
        {
          "output_type": "stream",
          "text": [
            "Enter a number (0 - 9999): \n",
            "stop\n"
          ],
          "name": "stdout"
        }
      ]
    }
  ]
}